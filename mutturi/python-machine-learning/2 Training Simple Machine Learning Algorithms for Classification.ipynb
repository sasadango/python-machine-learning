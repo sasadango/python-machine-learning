{
 "cells": [
  {
   "cell_type": "code",
   "execution_count": 3,
   "metadata": {
    "collapsed": true
   },
   "outputs": [],
   "source": [
    "import numpy as np"
   ]
  },
  {
   "cell_type": "code",
   "execution_count": 4,
   "metadata": {
    "collapsed": true
   },
   "outputs": [],
   "source": [
    "class Perceptron(object):\n",
    "    \"\"\"パーセプトロンの分類器\n",
    "    \n",
    "    パラメータ\n",
    "    -------------\n",
    "    eta : float\n",
    "        学習率（0.0より大きく1.0以下の値）\n",
    "    n_iter : int\n",
    "        トレーニングデータのトレーニング回数\n",
    "        \n",
    "    属性\n",
    "    -------------\n",
    "    w_ : 1次元配列\n",
    "        適合後の重み\n",
    "    error_ : リスト\n",
    "        各エポックでの誤分類数\n",
    "    \"\"\"\n",
    "    def __init__(self, eta=0.01, n_iter=10):\n",
    "        self.eta = eta\n",
    "        self.n_iter = n_iter\n",
    "        \n",
    "    def fit(self, X, y):\n",
    "        \"\"\"トレーニングデータに適合される\n",
    "        \n",
    "        パラメータ\n",
    "        -------------\n",
    "        X : { 配列のようなデータ構造 }, shape = { n_samples, n_features}\n",
    "            トレーニングデータ\n",
    "            n_sampleはサンプルの個数、n_featureは特徴量の個数\n",
    "        Y : 配列のようなデータ構造、shape = [n_samples]\n",
    "            目的変数\n",
    "            \n",
    "        戻り値\n",
    "        -------\n",
    "        self : object\n",
    "        \n",
    "        \"\"\"\n",
    "        self.w_ = np.zeros(1 + X.shape[1])\n",
    "        self.errors_ = []\n",
    "        \n",
    "        for _ in range(self.n_iter): # トレーニング回数分トレーニングデータを反復\n",
    "            errors = 0\n",
    "            for xi, target in zip(X, y): # 各サンプルで重みを更新\n",
    "                \n",
    "                # 重み w の更新\n",
    "                # \n",
    "                update = self.eta * (target - self.predict(xi))\n",
    "                self.w_[1:] += update * xi\n",
    "                \n",
    "                # 重み w0 の更新\n",
    "                self.w_[0] += update\n",
    "                \n",
    "                # 重みの更新が0でない場合は誤分類としてカウント\n",
    "                errors += int(update != 0.0)\n",
    "            # 反復回数ごとの誤差を格納\n",
    "            self.errors_.append(errors)\n",
    "        return self\n",
    "    \n",
    "    def net_input(self, X):\n",
    "        \"\"\"総入力を計算\"\"\"\n",
    "        return np.dot(X, self.w_[1:]) + self.w_[0]\n",
    "    \n",
    "    def predict(self, X):\n",
    "        \"\"\"1ステップ後のクラスラベルを返す\"\"\"\n",
    "        return np.where(self.net_input(X) >= 0.0, 1, -1)\n",
    "        "
   ]
  },
  {
   "cell_type": "markdown",
   "metadata": {},
   "source": [
    "# エポックはデータセットのトレーニング回数"
   ]
  },
  {
   "cell_type": "code",
   "execution_count": 5,
   "metadata": {
    "collapsed": true
   },
   "outputs": [],
   "source": [
    "import pandas as pd"
   ]
  },
  {
   "cell_type": "code",
   "execution_count": 7,
   "metadata": {},
   "outputs": [
    {
     "data": {
      "text/html": [
       "<div>\n",
       "<style>\n",
       "    .dataframe thead tr:only-child th {\n",
       "        text-align: right;\n",
       "    }\n",
       "\n",
       "    .dataframe thead th {\n",
       "        text-align: left;\n",
       "    }\n",
       "\n",
       "    .dataframe tbody tr th {\n",
       "        vertical-align: top;\n",
       "    }\n",
       "</style>\n",
       "<table border=\"1\" class=\"dataframe\">\n",
       "  <thead>\n",
       "    <tr style=\"text-align: right;\">\n",
       "      <th></th>\n",
       "      <th>0</th>\n",
       "      <th>1</th>\n",
       "      <th>2</th>\n",
       "      <th>3</th>\n",
       "      <th>4</th>\n",
       "    </tr>\n",
       "  </thead>\n",
       "  <tbody>\n",
       "    <tr>\n",
       "      <th>145</th>\n",
       "      <td>6.7</td>\n",
       "      <td>3.0</td>\n",
       "      <td>5.2</td>\n",
       "      <td>2.3</td>\n",
       "      <td>Iris-virginica</td>\n",
       "    </tr>\n",
       "    <tr>\n",
       "      <th>146</th>\n",
       "      <td>6.3</td>\n",
       "      <td>2.5</td>\n",
       "      <td>5.0</td>\n",
       "      <td>1.9</td>\n",
       "      <td>Iris-virginica</td>\n",
       "    </tr>\n",
       "    <tr>\n",
       "      <th>147</th>\n",
       "      <td>6.5</td>\n",
       "      <td>3.0</td>\n",
       "      <td>5.2</td>\n",
       "      <td>2.0</td>\n",
       "      <td>Iris-virginica</td>\n",
       "    </tr>\n",
       "    <tr>\n",
       "      <th>148</th>\n",
       "      <td>6.2</td>\n",
       "      <td>3.4</td>\n",
       "      <td>5.4</td>\n",
       "      <td>2.3</td>\n",
       "      <td>Iris-virginica</td>\n",
       "    </tr>\n",
       "    <tr>\n",
       "      <th>149</th>\n",
       "      <td>5.9</td>\n",
       "      <td>3.0</td>\n",
       "      <td>5.1</td>\n",
       "      <td>1.8</td>\n",
       "      <td>Iris-virginica</td>\n",
       "    </tr>\n",
       "  </tbody>\n",
       "</table>\n",
       "</div>"
      ],
      "text/plain": [
       "       0    1    2    3               4\n",
       "145  6.7  3.0  5.2  2.3  Iris-virginica\n",
       "146  6.3  2.5  5.0  1.9  Iris-virginica\n",
       "147  6.5  3.0  5.2  2.0  Iris-virginica\n",
       "148  6.2  3.4  5.4  2.3  Iris-virginica\n",
       "149  5.9  3.0  5.1  1.8  Iris-virginica"
      ]
     },
     "execution_count": 7,
     "metadata": {},
     "output_type": "execute_result"
    }
   ],
   "source": [
    "df = pd.read_csv('https://archive.ics.uci.edu/ml/machine-learning-databases/iris/iris.data', header=None)\n",
    "df.tail()"
   ]
  },
  {
   "cell_type": "code",
   "execution_count": 8,
   "metadata": {
    "collapsed": true
   },
   "outputs": [],
   "source": [
    "import matplotlib.pyplot as plt\n",
    "import numpy as np"
   ]
  },
  {
   "cell_type": "code",
   "execution_count": 9,
   "metadata": {},
   "outputs": [
    {
     "data": {
      "image/png": "[encoded data removed]",
      "text/plain": [
       "<matplotlib.figure.Figure at 0xf13c9398d0>"
      ]
     },
     "metadata": {},
     "output_type": "display_data"
    }
   ],
   "source": [
    "y = df.iloc[0:100,4].values\n",
    "# Iris-setosaを-1,Iris-Virginicaを1に変換\n",
    "y = np.where(y == 'Iris-setosa', -1, 1)\n",
    "# 1-100行目の1，3列目の抽出\n",
    "X = df.iloc[0:100, [0, 2]].values\n",
    "# 品種setosaのプロット（赤の○）\n",
    "plt.scatter(X[:50,0], X[:50,1], color='red', marker='o', label='setosa')\n",
    "# 品種versicolorのプロット（青の×）\n",
    "plt.scatter(X[50:100,0], X[50:100,1], color='blue', marker='x', label='versicolor')\n",
    "# 軸のラベルの設定\n",
    "plt.xlabel('sepal length [cm]')\n",
    "plt.ylabel('petal length [cm]')\n",
    "# 凡例の設定（左上に配置）\n",
    "plt.legend(loc='upper left')\n",
    "# 図の表示\n",
    "plt.show()"
   ]
  },
  {
   "cell_type": "code",
   "execution_count": 10,
   "metadata": {},
   "outputs": [
    {
     "data": {
      "image/png": "[encoded data removed]",
      "text/plain": [
       "<matplotlib.figure.Figure at 0xf136c92e10>"
      ]
     },
     "metadata": {},
     "output_type": "display_data"
    }
   ],
   "source": [
    "# パーセプトロンのオブジェクトの生成（インスタンス化）\n",
    "ppn = Perceptron(eta=0.1, n_iter=10)\n",
    "# トレーニングデータへのモデルの適合\n",
    "ppn.fit(X, y)\n",
    "# エポックと誤分類誤差の関係の折れ線グラフをプロット\n",
    "plt.plot(range(1, len(ppn.errors_) + 1), ppn.errors_, marker='o')\n",
    "# 軸のラベルの設定\n",
    "plt.xlabel('Epochs')\n",
    "plt.ylabel('Number of misclassifications')\n",
    "# 図の表示\n",
    "plt.show()"
   ]
  },
  {
   "cell_type": "markdown",
   "metadata": {},
   "source": [
    "# 2次元のデータセットの決定境界を可視化しよう"
   ]
  },
  {
   "cell_type": "code",
   "execution_count": 11,
   "metadata": {
    "collapsed": true
   },
   "outputs": [],
   "source": [
    "from matplotlib.colors import ListedColormap"
   ]
  },
  {
   "cell_type": "code",
   "execution_count": 12,
   "metadata": {
    "collapsed": true
   },
   "outputs": [],
   "source": [
    "def plot_decision_regions(X, y, classifier, resolution=0.02):\n",
    "    \n",
    "    # マーカーとカラーマップの準備\n",
    "    markers = ('s', 'x', 'o', '^', 'v')\n",
    "    colors = ('red', 'blue', 'lightgreen', 'gray', 'cyan')\n",
    "    cmap = ListedColormap(colors[:len(np.unique(y))])\n",
    "    \n",
    "    # 決定領域のプロット\n",
    "    x1_min, x1_max = X[:, 0].min() - 1, X[:, 0].max() + 1\n",
    "    x2_min, x2_max = X[:, 1].min() - 1, X[:, 1].max() + 1\n",
    "    # グリッドポイントの生成\n",
    "    xx1, xx2 = np.meshgrid(np.arange(x1_min, x1_max, resolution),\n",
    "                          np.arange(x2_min, x2_max, resolution))\n",
    "    # 各特徴量を1次元配列に変換して予測を実行\n",
    "    Z = classifier.predict(np.array([xx1.ravel(), xx2.ravel()]).T)\n",
    "    # 予測結果を元のグリッドポイントのデータサイズに変換\n",
    "    Z = Z.reshape(xx1.shape)\n",
    "    # グリッドポイントの等高線のプロット\n",
    "    plt.contourf(xx1, xx2, Z, alpha=0.4, cmap=cmap)\n",
    "    # 軸の範囲の設定\n",
    "    plt.xlim(xx1.min(), xx1.max())\n",
    "    plt.xlim(xx2.min(), xx2.max())\n",
    "    \n",
    "    # クラスごとにサンプルをプロット\n",
    "    for idx, cl in enumerate(np.unique(y)):\n",
    "        plt.scatter(x=X[y == cl, 0], y=X[y == cl, 1], alpha=0.8, c=cmap(idx),\n",
    "                   marker=markers[idx], label=cl)"
   ]
  },
  {
   "cell_type": "code",
   "execution_count": 13,
   "metadata": {},
   "outputs": [
    {
     "data": {
      "image/png": "[encoded data removed]",
      "text/plain": [
       "<matplotlib.figure.Figure at 0xf13cd92e10>"
      ]
     },
     "metadata": {},
     "output_type": "display_data"
    }
   ],
   "source": [
    "# 境界線のプロット\n",
    "plot_decision_regions(X, y, classifier=ppn)\n",
    "# 軸のラベルの設定\n",
    "plt.xlabel('sepal length [cm]')\n",
    "plt.ylabel('petal length [cm]')\n",
    "# 凡例の設定（左上に配置）\n",
    "plt.legend(loc='upper left')\n",
    "plt.xlim(X.min() + 2.3,X.max() + 1)\n",
    "# 図の表示\n",
    "plt.show()"
   ]
  },
  {
   "cell_type": "markdown",
   "metadata": {},
   "source": [
    "線形の決定境界によってクラスを完全に分割できない場合は、エポック数の最大値を設定しない限り、重みの更新はいつまでも更新され続けることになる"
   ]
  },
  {
   "cell_type": "markdown",
   "metadata": {},
   "source": [
    "# 2.4 ADALINEと学習の収束"
   ]
  },
  {
   "cell_type": "markdown",
   "metadata": {},
   "source": [
    "ADALINEの学習規則とRosenblattのパーセプトロンの主な違いは重みの更新方法にある。"
   ]
  },
  {
   "cell_type": "markdown",
   "metadata": {},
   "source": [
    "# 2.5 勾配降下法によるコスト関数の最小化"
   ]
  },
  {
   "cell_type": "markdown",
   "metadata": {},
   "source": [
    "教師あり機械学習のアルゴリズムを構成する主な要素の1つに、学習過程で最適化される目的関数を定義する\n",
    "目的関数は最小化したいコスト関数\n",
    "誤差平方和、線形活性化関数、微分可能、凸関数、勾配降下法（強力な最適化アルゴリズム）"
   ]
  },
  {
   "cell_type": "markdown",
   "metadata": {},
   "source": [
    "# 2.5.1 ADALINEをPythonで実装する"
   ]
  },
  {
   "cell_type": "code",
   "execution_count": 14,
   "metadata": {
    "collapsed": true
   },
   "outputs": [],
   "source": [
    "class AdalineGD(object):\n",
    "    \"\"\"ADAptive LInear NEuron分類器\n",
    "    \n",
    "    パラメータ\n",
    "    --------------\n",
    "    eta : float\n",
    "        学習率（0.0より大きく1.0以下の値）\n",
    "    n_iter : int\n",
    "        トレーニングデータのトレーニング回数\n",
    "        \n",
    "    属性\n",
    "    --------------\n",
    "    w_ : 1次元配列\n",
    "        適合後の重み\n",
    "    errors_ : リスト\n",
    "        各エポックでの誤分類数\n",
    "        \n",
    "    \"\"\"\n",
    "    def __init__(self, eta=0.01, n_iter=50):\n",
    "        self.eta = eta\n",
    "        self.n_iter = n_iter\n",
    "        \n",
    "    def __init__(self, eta=0.01, n_iter=50):\n",
    "        self.eta = eta\n",
    "        self.n_iter = n_iter\n",
    "        \n",
    "    def fit(self, X, y):\n",
    "        \"\"\" トレーニングデータに適合させる\n",
    "        \n",
    "        パラメータ\n",
    "        -------------\n",
    "        X : { 配列のようなデータ構造 }, shape = [n_samples, n_features]\n",
    "            トレーニングデータ\n",
    "            n_sampleはサンプルの個数、n_featureは特徴量の個数\n",
    "        y : 配列のようなデータ構造, shape = [n_samples]\n",
    "            目的変数\n",
    "            \n",
    "        戻り値\n",
    "        ----------\n",
    "        self : object\n",
    "        \n",
    "        \"\"\"\n",
    "        self.w_ = np.zeros(1 + X.shape[1])\n",
    "        self.cost_ = []\n",
    "        \n",
    "        for i in range(self.n_iter):  # トレーニング回数分トレーニングデータを反復\n",
    "            # 活性化関数の出力の計算\n",
    "            output = self.net_input(X)\n",
    "            # 誤差の計算\n",
    "            errors = (y - output)\n",
    "            # wの更新\n",
    "            #\n",
    "            self.w_[1:] += self.eta * X.T.dot(errors)\n",
    "            # w0の更新\n",
    "            self.w_[0] += self.eta * errors.sum()\n",
    "            # コスト関数の計算\n",
    "            cost = (errors**2).sum() / 2.0\n",
    "            # コストの格納\n",
    "            self.cost_.append(cost)\n",
    "        return self\n",
    "    \n",
    "    def net_input(self, X):\n",
    "        \"\"\"総入力を計算\"\"\"\n",
    "        return np.dot(X, self.w_[1:]) + self.w_[0]\n",
    "    \n",
    "    def activation(self, X):\n",
    "        \"\"\"線形活性化関数の出力を計算\"\"\"\n",
    "        return self.net_input(X)\n",
    "    \n",
    "    def predict(self, X):\n",
    "        \"\"\"1ステップ後のクラスラベルを返す\"\"\"\n",
    "        return np.where(self.activation(X) >= 0.0, 1, -1)"
   ]
  },
  {
   "cell_type": "markdown",
   "metadata": {},
   "source": [
    "パーセプトロンのように、個々のトレーニングサンプルを評価した後に重みを更新するのではなく、\n",
    "トレーニングデータセット全体を用いて勾配を計算する"
   ]
  },
  {
   "cell_type": "markdown",
   "metadata": {},
   "source": [
    "2つの学習率を用いて、エポック数に対するコストをプロットしてむる"
   ]
  },
  {
   "cell_type": "code",
   "execution_count": 15,
   "metadata": {},
   "outputs": [
    {
     "data": {
      "image/png": "[encoded data removed]",
      "text/plain": [
       "<matplotlib.figure.Figure at 0xf13ce0d198>"
      ]
     },
     "metadata": {},
     "output_type": "display_data"
    }
   ],
   "source": [
    "# 描画領域を1行2列に分割\n",
    "fig, ax = plt.subplots(nrows=1, ncols=2, figsize=(8, 4))\n",
    "# 勾配降下法によるADALINEの学習（学習率 eta=0.01）\n",
    "ada1 = AdalineGD(n_iter=10,eta=0.01).fit(X, y)\n",
    "# エポック数とコストの関係を表す折れ線グラフのプロット（縦軸のコストは常用対数）\n",
    "ax[0].plot(range(1,len(ada1.cost_)+1), np.log10(ada1.cost_), marker='o')\n",
    "# 軸のラベルの設定\n",
    "ax[0].set_xlabel('Epochs')\n",
    "ax[0].set_ylabel('log(Sum-squared-error)')\n",
    "# タイトルの設定\n",
    "ax[0].set_title('Adaline - Learning rate 0.01')\n",
    "# 勾配降下法によるADALINEの学習（学習率 eta=0.0001）\n",
    "ada2 = AdalineGD(n_iter=10, eta=0.0001).fit(X, y)\n",
    "# エポック数とコストの関係を表す折れ線グラフのプロット\n",
    "ax[1].plot(range(1,len(ada2.cost_)+1), ada2.cost_, marker='o')\n",
    "# 軸のラベルの設定\n",
    "ax[1].set_xlabel('Epochs')\n",
    "ax[1].set_ylabel('Sum-squared-error')\n",
    "# タイトルの設定\n",
    "ax[1].set_title('Adaline - Learning rate 0.0001')\n",
    "# 図の表示\n",
    "plt.show()"
   ]
  },
  {
   "cell_type": "markdown",
   "metadata": {},
   "source": [
    "結果として得られたコスト関数のグラフからわかるように、2種類の問題が発生している。\n",
    "\n",
    "左のグラフは、選択した学習率が大きすぎるとどうなるかを示している。\n",
    "選択した学習率が大きすぎると大局的最小値を「超えて」しまうため、コスト関数を最小化するどころか、エポックごとに誤差平方和が増えている。\n",
    "\n",
    "右のグラフを見ると、コストが減少することが分かる。\n",
    "ただし、選択された学習率η=0.0001は非常に小さいため、アルゴリズムを収束させるには、相当数のエポックが必要になる。"
   ]
  },
  {
   "cell_type": "markdown",
   "metadata": {
    "collapsed": true
   },
   "source": [
    "勾配降下法は特徴量のスケーリングに効果的なアルゴリズムの一つ"
   ]
  },
  {
   "cell_type": "markdown",
   "metadata": {},
   "source": [
    "ここでは標準化というスケーリング手法を用いる。\n",
    "このスケーリング手法はデータに用順正規分布の特徴を与える。その特徴とは、各特徴量の平均を0都市、標準偏差を1にするというもの。"
   ]
  },
  {
   "cell_type": "code",
   "execution_count": 16,
   "metadata": {},
   "outputs": [],
   "source": [
    "# データのコピー\n",
    "X_std = np.copy(X)\n",
    "# 各列の標準化\n",
    "X_std[:,0] = (X[:,0] - X[:,0].mean()) / X[:,0].std()\n",
    "X_std[:,1] = (X[:,1] - X[:,1].mean()) / X[:,1].std()"
   ]
  },
  {
   "cell_type": "markdown",
   "metadata": {},
   "source": [
    "meanメソッドとstdメソッドは、NumPyのクラスndarrayのメソッドであり、それぞれ平均と標準偏差を計算する。\n",
    "\n",
    "まず、行列XをNumPyのcopy関数でコピーし、オブジェクトX_stdを生成している。\n",
    "これは、いわゆるディープコピーであり、X_stdを変更してもXは影響を受けない。\n",
    "一方で、単純に=演算子を用いてX_stdを生成するといわゆるシャローコピーとなり、X_stdに対数変更がXにも及ぶ\n"
   ]
  },
  {
   "cell_type": "code",
   "execution_count": 19,
   "metadata": {},
   "outputs": [
    {
     "data": {
      "image/png": "[encoded data removed]",
      "text/plain": [
       "<matplotlib.figure.Figure at 0xf13ce8e8d0>"
      ]
     },
     "metadata": {},
     "output_type": "display_data"
    },
    {
     "data": {
      "image/png": "[encoded data removed]",
      "text/plain": [
       "<matplotlib.figure.Figure at 0xf13c1fb320>"
      ]
     },
     "metadata": {},
     "output_type": "display_data"
    }
   ],
   "source": [
    "# 勾配降下法によるADALINEの学習（標準化後、学習率 eta=0.01）\n",
    "ada = AdalineGD(n_iter=15, eta=0.01)\n",
    "# モデルの適合\n",
    "ada.fit(X_std, y)\n",
    "# 境界領域のプロット\n",
    "plot_decision_regions(X_std, y, classifier=ada)\n",
    "# タイトルの設定\n",
    "plt.title('Adalinr - Gradient Descent')\n",
    "# 軸のラベル設定\n",
    "plt.xlabel('sepal length [standardized]')\n",
    "plt.ylabel('petal length [standardized]')\n",
    "# 凡例の設定\n",
    "plt.legend(loc='upper left')\n",
    "# 図の表示\n",
    "plt.show()\n",
    "# エポック数とコストの関係を表す折れ線グラフのプロット\n",
    "plt.plot(range(1, len(ada.cost_) + 1), ada.cost_, marker='o')\n",
    "# 軸のラベルの設定\n",
    "plt.xlabel('Epochs')\n",
    "plt.ylabel('Sum-squared-error')\n",
    "# 図の表示\n",
    "plt.show()"
   ]
  },
  {
   "cell_type": "markdown",
   "metadata": {},
   "source": [
    "グラフから、標準化された特徴量を学習率η=0.01でトレーニングした後、ADALINEが収束していることが分かる。\n",
    "ただし、すべてのサンプルが正しく分類されたとしても、誤差平方和が依然として0ではないことに注意。"
   ]
  },
  {
   "cell_type": "markdown",
   "metadata": {},
   "source": [
    "# 2.6 大規模な機械学習と確率的勾配降下法"
   ]
  },
  {
   "cell_type": "markdown",
   "metadata": {},
   "source": [
    "トレーニングデータセット全体から計算された勾配とは逆方向に進むことにより、コスト関数を最小化する方法をやった。（バッチ勾配降下法）\n",
    "バッチ勾配降下法の実行では、大局的最小値に1ステップ近づくたびにトレーニングデータ全体を再び評価する必要がある"
   ]
  },
  {
   "cell_type": "markdown",
   "metadata": {},
   "source": [
    "バッチ勾配降下法のアルゴリズムの代わりによく用いられるのは、確率的勾配降下法\n",
    "このアルゴリズムは逐次的勾配降下法やオンライン勾配降下法と呼ばれる"
   ]
  },
  {
   "cell_type": "markdown",
   "metadata": {},
   "source": [
    "ミニバッチ学習は、バッチ勾配降下法と確率的勾配降下法の折衷案\n",
    "ミニバッチ学習については、トレーニングデータの一部にバッチ勾配降下法を適用するものとして解釈\n",
    "バッチ勾配降下法に対する利点として、ミニバッチのほうが重荷の更新頻度が高いため、より素早く収束させられることが挙げられる"
   ]
  },
  {
   "cell_type": "code",
   "execution_count": 34,
   "metadata": {},
   "outputs": [],
   "source": [
    "from numpy.random import seed\n",
    "\n",
    "class AdalineSGD(object):\n",
    "    \"\"\"ADAptive LInear NEuron分類器\n",
    "    \n",
    "    パラメータ\n",
    "    ------------\n",
    "    eta : float\n",
    "        学習率（0.0より大きく1.0以下に値）\n",
    "    n_iter : int\n",
    "        トレーニングデータのトレーニング回数\n",
    "        \n",
    "    属性\n",
    "    ----------\n",
    "    x_ : 1次元配列\n",
    "        適合後の重み\n",
    "    errors_ : リスト\n",
    "        各エポックでの誤分類数\n",
    "    shuffle : bool（デフォルト : True）\n",
    "        循環を回避するために各エポックでトレーニングデータをシャッフル\n",
    "    random_state : int（デフォルト : None）\n",
    "        シャッフルに使用するrandom_stateを設定し、重みを初期化\n",
    "        \n",
    "    \"\"\"\n",
    "    def __init__(self, eta=0.01, n_iter=10, shuffle=True, random_state=None):\n",
    "        # 学習率の初期化\n",
    "        self.eta = eta\n",
    "        # トレーニング回数の初期化\n",
    "        self.n_iter = n_iter\n",
    "        # 重み初期化フラグはFalseに設定\n",
    "        self.w_initialized = False\n",
    "        # 各エポックでトレーニングデータをシャッフルするかどうかのフラグを初期化\n",
    "        self.shuffle = shuffle\n",
    "        # 引数random_stateが指定された場合は乱数種を設定\n",
    "        if random_state:\n",
    "            seed(random_state)\n",
    "            \n",
    "    def fit(self, X, y):\n",
    "        \"\"\"トレーニングデータに適合させる\n",
    "            \n",
    "        パラメータ\n",
    "        -----------\n",
    "        X : { 配列のようなデータ構造 }, shape = [n_samples, n_features]\n",
    "           トレーニングデータ\n",
    "            n_sampleはサンプルの個数、n_featureは特徴量の個数\n",
    "        y : 配列のようなデータ構造, shape = [n_samples]\n",
    "            目的関数\n",
    "                \n",
    "        戻り値\n",
    "        -----------\n",
    "        self : object\n",
    "         \n",
    "        \"\"\"\n",
    "        # 重みベクトルの生成\n",
    "        self._initialize_weights(X.shape[1])\n",
    "        # コストを格納するリストの生成\n",
    "        self.cost_ = []\n",
    "        # トレーニング回数分トレーニングデータを反復\n",
    "        for i in range(self.n_iter):\n",
    "            # 指定された場合はトレーニングデータをシャッフル\n",
    "            if self.shuffle:\n",
    "                X, y = self._shuffle(X, y)\n",
    "            # 各サンプルのコストを格納するリストの生成\n",
    "            cost = []\n",
    "            # 各サンプルに対する計算\n",
    "            for xi, target in zip(X, y):\n",
    "                # 特徴量xiと目的変数yを用いた重みの更新とコストの計算\n",
    "                cost.append(self._update_weights(xi, target))\n",
    "            # サンプルの平均コストの計算\n",
    "            ave_cost = sum(cost) / len(y)\n",
    "            # 平均コストを格納\n",
    "            self.cost_.append(ave_cost)\n",
    "        return self\n",
    "        \n",
    "    def partial_fit(self, X, y):\n",
    "        \"\"\"重みを再初期化することなくとれにングデータに適合させる\"\"\"\n",
    "        # h曽木化されていない場合は初期化を実行\n",
    "        if not self.w_initialized:\n",
    "            self._initialize_weights(X.shape[1])\n",
    "        # 目的変数yの要素数が2以上の場合は\n",
    "        # 化kスサンプルの特徴量xiと目的変数targetで重みを更新\n",
    "        if y.ravel().shape[0] > 1:\n",
    "            for xi, target in zip(X, y):\n",
    "                self._update_weights(xi, target)\n",
    "        # 目的変数ｙの要素数が2以上の場合は\n",
    "        # 各サンプルの特徴量Xと目的変数yで重みを更新\n",
    "        else:\n",
    "            self._upgrade in zip(X, target)\n",
    "        return self\n",
    "        \n",
    "    def _shuffle(self, X, y):\n",
    "        \"\"\"トレーニングデータをシャッフル\"\"\"\n",
    "        r = np.random.permutation(len(y))\n",
    "        return X[r], y[r]\n",
    "        \n",
    "    def _initialize_weights(self, m):\n",
    "        \"\"\"重みを0に初期化\"\"\"\n",
    "        self.w_ = np.zeros(1 + m)\n",
    "        self.w_initialized = True\n",
    "            \n",
    "    def _update_weights(self, xi, target):\n",
    "        \"\"\"ADALINEの学習規則を用いて重みを更新\"\"\"\n",
    "        # 活性化関数の出力の計算\n",
    "        output = self.net_input(xi)\n",
    "        # 誤差の計算\n",
    "        error = (target - output)\n",
    "        # 重みwの更新\n",
    "        self.w_[1:] += self.eta * xi.dot(error)\n",
    "        # 重みw0の更新\n",
    "        self.w_[0] += self.eta * error\n",
    "        # コストの計算\n",
    "        cost = 0.5 * error**2\n",
    "        return cost\n",
    "        \n",
    "    def net_input(self, X):\n",
    "        \"\"\"総入力を計算\"\"\"\n",
    "        return np.dot(X, self.w_[1:]) + self.w_[0]\n",
    "        \n",
    "    def activation(self, X):\n",
    "        \"\"\"線形活性化関数の出力を計算\"\"\"\n",
    "        return self.net_input(X)\n",
    "        \n",
    "    def predict(self, X):\n",
    "        \"\"\"1ステップ後のクラスラベルを返す\"\"\"\n",
    "        return np.where(self.activation(X) >= 0.0, 1, -1)"
   ]
  },
  {
   "cell_type": "code",
   "execution_count": 36,
   "metadata": {},
   "outputs": [
    {
     "data": {
      "image/png": "[encoded data removed]",
      "text/plain": [
       "<matplotlib.figure.Figure at 0xf13c221400>"
      ]
     },
     "metadata": {},
     "output_type": "display_data"
    },
    {
     "data": {
      "image/png": "[encoded data removed]",
      "text/plain": [
       "<matplotlib.figure.Figure at 0xf13c24e6d8>"
      ]
     },
     "metadata": {},
     "output_type": "display_data"
    }
   ],
   "source": [
    "# 確率的勾配降下法によるADALINEの学習\n",
    "ada = AdalineSGD(n_iter=15, eta=0.01, random_state=1)\n",
    "# モデルへの適合\n",
    "ada.fit(X_std, y)\n",
    "# 境界領域のプロット\n",
    "plot_decision_regions(X_std, y, classifier=ada)\n",
    "# タイトルの設定\n",
    "plt.title('Adaline - Stochastic Gradient Descent')\n",
    "# 軸のラベルの設定\n",
    "plt.xlabel('sepal length [standardized]')\n",
    "plt.ylabel('petal length [standardized]')\n",
    "# 凡例の設定（左上に配置）\n",
    "plt.legend(loc='upper left')\n",
    "plt.tight_layout()\n",
    "# プロットの表示\n",
    "plt.show()\n",
    "# エポックとコストの折れ線グラフのプロット\n",
    "plt.plot(range(1,len(ada.cost_) + 1), ada.cost_, marker='o')\n",
    "# 軸のラベルの設定\n",
    "plt.xlabel('Epochs')\n",
    "plt.ylabel('Average Cost')\n",
    "# プロットの表示\n",
    "plt.show()"
   ]
  },
  {
   "cell_type": "markdown",
   "metadata": {},
   "source": [
    "平均コストがすぐに減少することが分かる"
   ]
  }
 ],
 "metadata": {
  "kernelspec": {
   "display_name": "Python 3",
   "language": "python",
   "name": "python3"
  },
  "language_info": {
   "codemirror_mode": {
    "name": "ipython",
    "version": 3
   },
   "file_extension": ".py",
   "mimetype": "text/x-python",
   "name": "python",
   "nbconvert_exporter": "python",
   "pygments_lexer": "ipython3",
   "version": "3.6.1"
  }
 },
 "nbformat": 4,
 "nbformat_minor": 2
}
