{
 "cells": [
  {
   "cell_type": "markdown",
   "metadata": {},
   "source": [
    "分類問題\n",
    "機械学習ライブラリscikit-learnの活用\n",
    "\n",
    "このライブラリは、教師あり学習のアルゴリズムを効率的かつ生産的に利用することを目的として、ユーザーフレンドリなインターフェースを提供している"
   ]
  },
  {
   "cell_type": "markdown",
   "metadata": {},
   "source": [
    "# 3.1 分類アルゴリズムの選択"
   ]
  },
  {
   "cell_type": "markdown",
   "metadata": {},
   "source": [
    "特定の問題に適した分類アルゴリズムを選択するには、練習が必要である\n",
    "特徴量やサンプルの個数、データベースでのノイズの量、そしてクラスの線形分離可能性に関して違いがあるかもしれない"
   ]
  },
  {
   "cell_type": "markdown",
   "metadata": {},
   "source": [
    "結局のところ、分類器の性能（予測力と計算能力）は、学習に利用可能なデータに大きく依存する<br>\n",
    "機械学習のアルゴリズムのトレーニングは、次に示す主要な5つの手順で構成される<br>\n",
    "<h>\n",
    "    1.特徴量を選択し、トレーニングサンプルを収集する<br>\n",
    "    2.性能指標を選択する<br>\n",
    "    3.分類器と最適化アルゴリズムを選択する<br>\n",
    "    4.モデルの性能を評価する<br>\n",
    "    5.アルゴリズムを調整する<br>"
   ]
  },
  {
   "cell_type": "markdown",
   "metadata": {},
   "source": [
    "# 3.2 scikit-learn活用へのファーストステップ：パーセプトロンのトレーニング"
   ]
  },
  {
   "cell_type": "markdown",
   "metadata": {},
   "source": [
    "150個のサンプルの「がく片の長さ」と「花びらの長さ」を特徴行列Xに代入し、対応する品種のクラスラベルをベクトルyに代入する"
   ]
  },
  {
   "cell_type": "code",
   "execution_count": 3,
   "metadata": {},
   "outputs": [
    {
     "name": "stdout",
     "output_type": "stream",
     "text": [
      "Class labels: [0 1 2]\n"
     ]
    }
   ],
   "source": [
    "from sklearn import datasets\n",
    "import numpy as np\n",
    "# Irisデータセットをロード\n",
    "iris = datasets.load_iris()\n",
    "# 3,4列目の特徴量を抽出\n",
    "X = iris.data[:, [2, 3]]\n",
    "# クラスレベルを取得\n",
    "y = iris.target\n",
    "# 一意なクラスラベルを出力\n",
    "print('Class labels:', np.unique(y))"
   ]
  },
  {
   "cell_type": "markdown",
   "metadata": {},
   "source": [
    "np.unique(y)は、iris.targetに格納されている一意なクラスレベルを3つ返している<br>\n",
    "アヤメの花のクラス名であるIris-setosa、Iris-versicolor、Iris-virginicaがすでに整数（0，1，2）として格納されていることが分かる"
   ]
  },
  {
   "cell_type": "markdown",
   "metadata": {},
   "source": [
    "トレーニングしたモデルの性能を未知のデータで評価するために、データセットをさらにトレーニングデータセットとテストデータセットに分割する"
   ]
  },
  {
   "cell_type": "code",
   "execution_count": 4,
   "metadata": {
    "collapsed": true
   },
   "outputs": [],
   "source": [
    "from sklearn.model_selection import train_test_split\n",
    "# トレーニングデータとテストデータに分割\n",
    "# 全体の30％をテストデータにする\n",
    "X_train, X_test, y_train, y_test = train_test_split(X, y, test_size=0.3, random_state=1, stratify=y)"
   ]
  },
  {
   "cell_type": "markdown",
   "metadata": {},
   "source": [
    "scikit-learnのmodel_selectionモジュールのtrain_test_split関数を使用して、X配列とy配列を30％のテストデータ（45個のサンプル）と70％のトレーニングデータ（105個のサンプル）にランダムに分割している.<br>\n",
    "なお、train_test_split関数は、データセットを分割する前にトレーニングセットを内部でシャッフルする.<br>\n",
    "そうしないと、クラス0とクラス1のサンプルがトレーニングセットに追加され、テストセットがクラス2の45個のサンプルで構成されることになってしまう.<br>\n",
    "ここでは、random_stateパラメータを通じて、内部の疑似乱数生成器に固定の乱数シード（random_state=1）を指定している.<br>\n",
    "この乱数生成器は、データセットを分割する前のシャッフルに使用される"
   ]
  },
  {
   "cell_type": "markdown",
   "metadata": {},
   "source": [
    "stratify=yを指定することで、組み込み機能としてサポートされている層化サンプリングを利用している"
   ]
  },
  {
   "cell_type": "markdown",
   "metadata": {},
   "source": [
    "この場合の層化サンプリングセットは、train_test_split関数から返されるトレーニングサブセットとテストサブセットに含まれているクラスレベルの比率が入力データセットと同じであることを意味する"
   ]
  },
  {
   "cell_type": "markdown",
   "metadata": {},
   "source": [
    "実際にそうなっている事を確認したい場合は、NumPyのbincount関数を使用できる<br>\n",
    "この関数は、配列内の各値の出現回数を数える機能を提供する"
   ]
  },
  {
   "cell_type": "code",
   "execution_count": 5,
   "metadata": {},
   "outputs": [
    {
     "name": "stdout",
     "output_type": "stream",
     "text": [
      "Labels counts in y: [50 50 50]\n"
     ]
    }
   ],
   "source": [
    "print('Labels counts in y:', np.bincount(y))"
   ]
  },
  {
   "cell_type": "code",
   "execution_count": 6,
   "metadata": {},
   "outputs": [
    {
     "name": "stdout",
     "output_type": "stream",
     "text": [
      "Labels counts in y_train: [35 35 35]\n"
     ]
    }
   ],
   "source": [
    "print('Labels counts in y_train:', np.bincount(y_train))"
   ]
  },
  {
   "cell_type": "code",
   "execution_count": 7,
   "metadata": {},
   "outputs": [
    {
     "name": "stdout",
     "output_type": "stream",
     "text": [
      "Labels counts in y_test: [15 15 15]\n"
     ]
    }
   ],
   "source": [
    "print('Labels counts in y_test:', np.bincount(y_test))"
   ]
  },
  {
   "cell_type": "markdown",
   "metadata": {
    "collapsed": true
   },
   "source": [
    "機械学習と最適化の多くのアルゴリズムでは、最適な性能を得るために特徴量のスケーリングも必要<br>\n",
    "ここでは、scikit-learnのpreprocessingモジュールのStandardScalerクラスを使って特徴量を標準化する"
   ]
  },
  {
   "cell_type": "code",
   "execution_count": 8,
   "metadata": {
    "collapsed": true
   },
   "outputs": [],
   "source": [
    "from sklearn.preprocessing import StandardScaler\n",
    "sc = StandardScaler()\n",
    "# トレーニングデータの平均と標準偏差を計算\n",
    "sc.fit(X_train)\n",
    "# 平均と標準偏差を用いて標準化\n",
    "X_train_std = sc.transform(X_train)\n",
    "X_test_std = sc.transform(X_test)"
   ]
  },
  {
   "cell_type": "markdown",
   "metadata": {},
   "source": [
    "このコードは、StandardScalerクラスをpreprocessingモジュールから読み込み、StandardScalerクラスの新しいインスタンスを変数scに代入している<br>\n",
    "次に、StandardScalerのfitメソッドを呼び出すことで、トレーニングデータから特徴量ごとにパラメータµ（平均値）とσ（標準偏差）を推定<br>\n",
    "続いて、transformメソッドを呼び出し、推定されたパラメータµとσを使ってトレーニングデータを標準化している<br>\n",
    "テストデータを標準化するのに同じスケーリングパラメータを使用したことに注意<br>\n",
    "これはトレーニングデータセットとテストデータセットの値を相互に比較できるようにする"
   ]
  },
  {
   "cell_type": "markdown",
   "metadata": {},
   "source": [
    "トレーニングデータセットを標準化したところで、パーセプトロンモデルをトレーニングできる状態となる<br>\n",
    "scikit-learnのほとんどのアルゴリズムは、多クラス分類をデフォルトでサポートしている<br>\n",
    "これには一対他（OvR）手法が使用されるため、3つの品種のクラスをパーセプトロンに同時に与えることができる"
   ]
  },
  {
   "cell_type": "code",
   "execution_count": 9,
   "metadata": {},
   "outputs": [
    {
     "data": {
      "text/plain": [
       "Perceptron(alpha=0.0001, class_weight=None, eta0=0.1, fit_intercept=True,\n",
       "      n_iter=40, n_jobs=1, penalty=None, random_state=1, shuffle=True,\n",
       "      verbose=0, warm_start=False)"
      ]
     },
     "execution_count": 9,
     "metadata": {},
     "output_type": "execute_result"
    }
   ],
   "source": [
    "from sklearn.linear_model import Perceptron\n",
    "# エポック数40、学習率0.1でパーセプトロンのインスタンスを生成\n",
    "ppn = Perceptron(n_iter=40, eta0=0.1, random_state=1)\n",
    "# トレーニングデータをモデルに適応させる\n",
    "ppn.fit(X_train_std, y_train)"
   ]
  },
  {
   "cell_type": "markdown",
   "metadata": {},
   "source": [
    "linear_modelモジュールからPerceptronクラスを読み込んだ後、Perceptronの新しいインスタンスを初期化してから、fitメソッドを使ってモデルをトレーニングしている<br>\n",
    "この場合、パラメータn_iterはエポック数（データセットのトレーニング回数）を定義する<br>"
   ]
  },
  {
   "cell_type": "markdown",
   "metadata": {},
   "source": [
    "適切な学習率を割り出すには、ある程度の実験が必要である<br>\n",
    "学習率が高すぎれば、アルゴリズムはコストの大局的最小値を飛び越えてしまう<br>\n",
    "学習率が低すぎれば、アルゴリズムの収束に必要なエポックが増えてしまう<br>\n",
    "特に大きなデータセットでは、それにより学習の効率が低下する恐れがある<br>\n",
    "また、エポックごとにトレーニングデータセットの並べ替えを実現できるよう、random_stateパラメータを使用している"
   ]
  },
  {
   "cell_type": "code",
   "execution_count": 10,
   "metadata": {},
   "outputs": [
    {
     "name": "stdout",
     "output_type": "stream",
     "text": [
      "Misclassified samples: 3\n"
     ]
    }
   ],
   "source": [
    "# テストデータで予測を実施\n",
    "y_pred = ppn.predict(X_test_std)\n",
    "# 誤分類のサンプルの個数を表示\n",
    "print('Misclassified samples: %d' % (y_test != y_pred).sum())"
   ]
  },
  {
   "cell_type": "markdown",
   "metadata": {},
   "source": [
    "このコードを実行すると、パーセプトロンが45個のサンプルのうち３つを誤分類することが分かる"
   ]
  },
  {
   "cell_type": "markdown",
   "metadata": {},
   "source": [
    "scikit-learnでは、さまざまな性能指標を計算する機能も実装されている<br>\n",
    "それらはmetricsモジュールより提供される<br>\n",
    "たとえば、テストデータセットでのパーセプトロンの正解率は、次のように計算できる"
   ]
  },
  {
   "cell_type": "code",
   "execution_count": 11,
   "metadata": {},
   "outputs": [
    {
     "name": "stdout",
     "output_type": "stream",
     "text": [
      "Accuracy: 0.93\n"
     ]
    }
   ],
   "source": [
    "from sklearn.metrics import accuracy_score\n",
    "# 分類の正解率を表示\n",
    "print('Accuracy: %.2f' % accuracy_score(y_test, y_pred))"
   ]
  },
  {
   "cell_type": "markdown",
   "metadata": {},
   "source": [
    "ここで、y_testは真のクラスレベルであり、y_predは以前に予測したクラスレベルである<br>\n",
    "あるいは、scikit-learnの各分類器に定義されているscoreメソッドを使用することもできる<br>\n",
    "このメソッドは、predict呼び出しを先のaccuracy_scoreと組み合わせることで、分類器の正解率を計算する"
   ]
  },
  {
   "cell_type": "code",
   "execution_count": 12,
   "metadata": {},
   "outputs": [
    {
     "name": "stdout",
     "output_type": "stream",
     "text": [
      "Accuracy: 0.93\n"
     ]
    }
   ],
   "source": [
    "print('Accuracy: %.2f' % ppn.score(X_test_std, y_test))"
   ]
  },
  {
   "cell_type": "markdown",
   "metadata": {
    "collapsed": true
   },
   "source": [
    "最後に、前章で説明したplot_decision_regions関数を使用して、トレーニングしたばかりのパーセプトロンモデルの決定領域をプロットし、さまざまな品種のサンプルをどの程度識別できるのかを可視化してみる"
   ]
  },
  {
   "cell_type": "code",
   "execution_count": 13,
   "metadata": {
    "collapsed": true
   },
   "outputs": [],
   "source": [
    "from matplotlib.colors import ListedColormap\n",
    "import matplotlib.pyplot as plt\n",
    "\n",
    "def plot_decision_regions(X, y, classifier, test_idx=None, resolution=0.02):\n",
    "    \n",
    "    # マーカーとカラーマップ\n",
    "    markers = ('s', 'x', 'o', '^', 'v')\n",
    "    colors = ('red', 'blue', 'lightgreen', 'gray', 'cyan')\n",
    "    cmap = ListedColormap(colors[:len(np.unique(y))])\n",
    "    \n",
    "    # 決定領域のプロット\n",
    "    x1_min, x1_max = X[:, 0].min() - 1, X[:, 0].max() + 1\n",
    "    x2_min, x2_max = X[:, 1].min() - 1, X[:, 1].max() + 1\n",
    "    \n",
    "    # グリッドポイントの生成\n",
    "    xx1, xx2 = np.meshgrid(np.arange(x1_min, x1_max, resolution),\n",
    "                           np.arange(x2_min, x2_max, resolution))\n",
    "    \n",
    "    # 各特徴量を1次元配列に変換して予測を実行\n",
    "    Z = classifier.predict(np.array([xx1.ravel(), xx2.ravel()]).T)\n",
    "    \n",
    "    # 予測結果を元のグリッドポイントのデータサイズに変換\n",
    "    Z = Z.reshape(xx1.shape)\n",
    "    \n",
    "    # グリッドポイントの等高線のプロット\n",
    "    plt.contourf(xx1, xx2, Z, alpha=0.3, cmap=cmap)\n",
    "    \n",
    "    # 軸の範囲の設定\n",
    "    plt.xlim(xx1.min(), xx1.max())\n",
    "    plt.ylim(xx2.min(), xx2.max())\n",
    "    \n",
    "    # クラスごとにサンプルをプロット\n",
    "    for idx, cl in enumerate(np.unique(y)):\n",
    "        plt.scatter(x=X[y == cl, 0], y=X[y == cl, 1],\n",
    "                   alpha=0.8,\n",
    "                   c=colors[idx],\n",
    "                   marker=markers[idx],\n",
    "                   label=cl,\n",
    "                   edgecolor='black')\n",
    "        \n",
    "    # テストサンプルを目立たせる（点を○で表示）\n",
    "    if test_idx:\n",
    "        # 全てのサンプルをプロット\n",
    "        X_test, y_test = X[test_idx, :], y[test_idx]\n",
    "        plt.scatter(X_test[:, 0], X_test[:, 1],\n",
    "                   c='',\n",
    "                   edgecolor='black',\n",
    "                   alpha=1.0,\n",
    "                   linewidth=1,\n",
    "                   marker='o',\n",
    "                   s=100,\n",
    "                   label='test set')"
   ]
  },
  {
   "cell_type": "markdown",
   "metadata": {},
   "source": [
    "plot_decision_regions関数を少し修正したおかげで（コードの太字部分）、目立たせたいs何プルをインデックスで指定できるようななった<br>\n",
    "この関数を使ってデータをプロットするコードは次のようになる"
   ]
  },
  {
   "cell_type": "code",
   "execution_count": 14,
   "metadata": {},
   "outputs": [
    {
     "data": {
      "image/png": "[encoded data removed]",
      "text/plain": [
       "<matplotlib.figure.Figure at 0x47e03385f8>"
      ]
     },
     "metadata": {},
     "output_type": "display_data"
    }
   ],
   "source": [
    "# トレーニングデータとテストデータの特徴量を行方向に結合\n",
    "X_combined_std = np.vstack((X_train_std, X_test_std))\n",
    "# トレーニングデータとテストデータのクラスラベルを結合\n",
    "y_combined = np.hstack((y_train, y_test))\n",
    "# 決定境界のプロット\n",
    "plot_decision_regions(X=X_combined_std, y=y_combined, classifier=ppn,\n",
    "                     test_idx=range(105,150))\n",
    "# 軸のラベル設定\n",
    "plt.xlabel('petal length [standardized]')\n",
    "plt.ylabel('petal width [standardized]')\n",
    "\n",
    "# 凡例の設定（左上に配置）\n",
    "plt.legend(loc='upper left')\n",
    "\n",
    "# グラフを表示\n",
    "plt.tight_layout()\n",
    "plt.show()"
   ]
  },
  {
   "cell_type": "markdown",
   "metadata": {},
   "source": [
    "結果として得られたグラフからわかるように、3つの品種を線形の決定境界で完全に区切ることはできない"
   ]
  },
  {
   "cell_type": "markdown",
   "metadata": {},
   "source": [
    "前章で述べたように、完全な線形分離が不可能なデータセットでは、パーセプトロンアルゴリズムは決して収束しない<br>\n",
    "パーセプトロンアルゴリズムが一般に実務のデータ解析で推奨されないのは、そのためである"
   ]
  },
  {
   "cell_type": "markdown",
   "metadata": {},
   "source": [
    "# 3.3 ロジステック回帰を使ってクラスの確立を予測するモデルの構築"
   ]
  },
  {
   "cell_type": "markdown",
   "metadata": {
    "collapsed": true
   },
   "source": [
    "パーセプトロンの学習規則は、分類を目的とした機械学習のアルゴリズムを試してみる分には悪くないが、最大の問題点は、クラスを完全に線形分離できない場合は決して収束しないことである<br>\n",
    "その理由としてすぐに思い当たるのは、エポックごとに誤分類されるサンプルが少なくとも1つあるために、重みが絶えず更新されてしまうことである<br>\n",
    "もちろん、学習率を変更してエポックの数を増やすことは可能だが、このデータセットではパーセプトロンが決して収束しないことに注意"
   ]
  },
  {
   "cell_type": "markdown",
   "metadata": {},
   "source": [
    "ここからはロジステック回帰についてみていく<br>\n",
    "ロジステック回帰は線形分類問題と二値分類問題に対する単純ながらより強力なアルゴリズムであり、その名前とは裏腹に、回帰ではなく分類のためのモデルである"
   ]
  },
  {
   "cell_type": "markdown",
   "metadata": {},
   "source": [
    "# 3.3.1 ロジステック回帰の直観的知識と条件付確率"
   ]
  },
  {
   "cell_type": "markdown",
   "metadata": {},
   "source": [
    "ロジステック回帰は分類モデルであり、非常に実装しやすいものの、高い性能が発揮されるのは線形分離可能なクラスに対してのみである<br>\n",
    "パーセプトロンやADALINEと同様に、本書で取り上げるロジステック回帰モデルは二値分類のための線形モデルでもあり、たとえば一対他（OvR）手法に基づいて多クラス分類モデルとして拡張される"
   ]
  },
  {
   "cell_type": "markdown",
   "metadata": {},
   "source": [
    "ロジステック回帰の概念を理解するために、まずオッズ比（odds ratio）からみていく<br>\n",
    "オッズ比は事象の起こりやすさを表すもので、$\\frac{p}{(1-p)}$と書くことができる．この場合、pは正事象の確立を表す<br>\n",
    "正事象は必ずしも「良い」ことを意味するわけではなく、患者に疾患がある確率など、予測したい事象を表す<br>\n",
    "正事象については、クラスラベルy = 1として考えることができる<br>\n",
    "その場合は、ロジット関数を定義できる<br>\n",
    "この関数は単にオッズ比の対数（対数オッズ）となる<br>\n",
    "<div style=\"text-align: center;\">\n",
    "$logit(p)=log{\\frac{p}{(1-p)}}$\n",
    "</div>\n",
    "コンピュータサイエンスの慣例に従い、この場合の「対数」は自然対数を表すことに注意<br>\n",
    "ロジット関数は、0よりも大きく1よりも小さい範囲の入力値を受け取り、それらの次数の全範囲の値に変換する<br>\n",
    "この関数を使って、特徴量の値と対数オッズとの間の線形関係を表すことができる<br>\n",
    "<div style=\"text-align: center;\">\n",
    "$logit(p(y=1|x))=w_0x_0+w_1x_1+...+w_mx_m=\\sum_{i=0}^{m}w_ix_i=w^Tx$\n",
    "</div>\n",
    "ここでp(y=1|x))は、特徴量xから与えられた場合にサンプルがクラス1に属するという条件付き確率である"
   ]
  },
  {
   "cell_type": "markdown",
   "metadata": {},
   "source": [
    "ここで実際に関心があるのは、サンプルが特定のクラスに属している確率を予測することである<br>\n",
    "これはロジット関数の逆関数であり、ロジステックしぐも井戸関数とも呼ばれる<br>\n",
    "その特徴的なS字形により、単にシグモイド関数と呼ばれることもある\n",
    "<div style=\"text-align: center;\">\n",
    "$φ(z)=\\frac{1}{1+e^{-z}}$\n",
    "</div>\n",
    "この場合のzは総入力である<br>\n",
    "つまり、重みとサンプルの特徴量との線形結合であり、次のように計算できる<br>\n",
    "<div style=\"text-align: center;\">\n",
    "$z = w^Tx = w_0x_0 + w_1x_1 + ... + w_mx_m$\n",
    "</div>"
   ]
  },
  {
   "cell_type": "markdown",
   "metadata": {},
   "source": [
    "-7以上7未満の範囲にある値のシグモイド関数をプロットしてみる"
   ]
  },
  {
   "cell_type": "code",
   "execution_count": 15,
   "metadata": {
    "collapsed": true
   },
   "outputs": [],
   "source": [
    "import matplotlib.pyplot as plt\n",
    "import numpy as np"
   ]
  },
  {
   "cell_type": "code",
   "execution_count": 16,
   "metadata": {
    "collapsed": true
   },
   "outputs": [],
   "source": [
    "#シグモイド関数を定義\n",
    "def sigmoid(z):\n",
    "    return 1.0 / (1.0 + np.exp(-z))"
   ]
  },
  {
   "cell_type": "code",
   "execution_count": 17,
   "metadata": {},
   "outputs": [
    {
     "data": {
      "image/png": "[encoded data removed]",
      "text/plain": [
       "<matplotlib.figure.Figure at 0x47e15d9fd0>"
      ]
     },
     "metadata": {},
     "output_type": "display_data"
    }
   ],
   "source": [
    "# 0.1間隔で-7以上7未満のデータを生成\n",
    "z = np.arange(-7, 7, 0.1)\n",
    "\n",
    "# 生成したデータでシグモイド関数を実行\n",
    "phi_z = sigmoid(z)\n",
    "\n",
    "# 元データとシグモイド関数の出力をプロット\n",
    "plt.axvline(0.0, color='k')\n",
    "\n",
    "# y軸の上限/下限を設定\n",
    "plt.plot(z, phi_z)\n",
    "\n",
    "# 軸のラベルを設定\n",
    "plt.xlabel('z')\n",
    "plt.ylabel('$\\phi (z)$')\n",
    "\n",
    "# y軸の目盛りを追加\n",
    "plt.yticks([0.0, 0.5, 1.0])\n",
    "\n",
    "# Axesクラスのオブジェクトの取得\n",
    "ax = plt.gca()\n",
    "\n",
    "# y軸の目盛りに合わせて水平グリッド線を追加\n",
    "ax.yaxis.grid(True)\n",
    "\n",
    "# グラフを表示\n",
    "plt.tight_layout()\n",
    "plt.show()"
   ]
  },
  {
   "cell_type": "markdown",
   "metadata": {},
   "source": [
    "ロジステック回帰モデルに対する直観を養うために、前章で説明したADALINEの実装と関連付けてみる<br>\n",
    "ADALINEの実装では、高等関数φ(z) = zを活性化関数として使用した<br>\n",
    "ロジステック回帰では、先ほど定義したシグモイド関数が活性化関数になる<br>"
   ]
  },
  {
   "cell_type": "markdown",
   "metadata": {},
   "source": [
    "実際のところ、多くのアプリケーションでは、予測されるクラスラベルに関心があるだけでなく、クラスの所属関係の確率（閾値計算を適用する前のシグモイド関数の出力）を見積もることが特に有益となる"
   ]
  },
  {
   "cell_type": "markdown",
   "metadata": {},
   "source": [
    "# 3.3.2 ロジステック関数の重みの学習"
   ]
  },
  {
   "cell_type": "markdown",
   "metadata": {},
   "source": [
    "ロジステック回帰モデルを使って確率とクラスラベルを予測する方法について説明したところで、たとえば重みwといったモデルのパラメータを結合させる方法について説明する<br>\n",
    "前章では、誤差平方和（SSE）のコスト関数を定義した<br>\n",
    "そして、ADALINEの分類モデルの重みwを学習するために、この関数を最小化した<br>\n",
    "ロジステック回帰のコスト関数を導き出す方法について説明するために、データセットのサンプルがお互いに独立していると仮定して、まずロジステック回帰モデルの構築時に最大化したい尤度Lを定義する"
   ]
  },
  {
   "cell_type": "code",
   "execution_count": 18,
   "metadata": {},
   "outputs": [
    {
     "data": {
      "image/png": "[encoded data removed]",
      "text/plain": [
       "<matplotlib.figure.Figure at 0x47e1c89940>"
      ]
     },
     "metadata": {},
     "output_type": "display_data"
    }
   ],
   "source": [
    "# y=1のコストを計算する関数\n",
    "def cost_1(z):\n",
    "    return - np.log(sigmoid(z))\n",
    "\n",
    "# y=0のコストを計算する関数\n",
    "def cost_0(z):\n",
    "    return - np.log(1 - sigmoid(z))\n",
    "\n",
    "# 0.1間隔で-10以上10未満のデータを生成\n",
    "z = np.arange(-10, 10, 0.1)\n",
    "\n",
    "# シグモイド関数を実行\n",
    "phi_z = sigmoid(z)\n",
    "\n",
    "# y=1のコストを計算する関数を実行\n",
    "c1 = [cost_1(x) for x in z]\n",
    "\n",
    "# 結果をプロット\n",
    "plt.plot(phi_z, c1, label='J(w) if y=1')\n",
    "\n",
    "# y=0のコストを計算する関数を実行\n",
    "c0 = [cost_0(x) for x in z]\n",
    "\n",
    "# 結果をプロット\n",
    "plt.plot(phi_z, c0, linestyle='--', label='J(w) if y=0')\n",
    "\n",
    "# x軸とy軸の上限/下限を設定\n",
    "plt.ylim(0.0, 5.1)\n",
    "plt.xlim([0, 1])\n",
    "\n",
    "# 軸のラベルを設定\n",
    "plt.xlabel('$\\phi$(z)')\n",
    "plt.ylabel('J(w)')\n",
    "\n",
    "# 凡例を設定\n",
    "plt.legend(loc='upper center')\n",
    "\n",
    "# グラフを表示\n",
    "plt.tight_layout()\n",
    "plt.show()"
   ]
  },
  {
   "cell_type": "markdown",
   "metadata": {},
   "source": [
    "結果として表示されたグラフは、x軸の範囲[0, 1]でシグモイド活性化関数を表しており、y軸で関連するロジステック回帰のコストを表している<br>\n",
    "シグモイド関数への入力は範囲[-10, 10]のz値である"
   ]
  },
  {
   "cell_type": "markdown",
   "metadata": {},
   "source": [
    "サンプルがクらる1に属していることを正しく予測した場合は、コストが0に地下ずくことが分かる<br>\n",
    "同様に、y=0である(サンプルがクラス0に属している)ことを正しく予測した場合は、y軸のコストも0に近づくことが分かる<br>\n",
    "ただし、予測が間違っていた場合、コストは無限大に向かう<br>\n",
    "要するに、予測を間違えたら徐々にコストを引き上げることで、ペナルティを科すわけである"
   ]
  },
  {
   "cell_type": "markdown",
   "metadata": {},
   "source": [
    "# 3.3.3 ADALINE実装をロジステック回帰アルゴリズムに変換する"
   ]
  },
  {
   "cell_type": "markdown",
   "metadata": {},
   "source": [
    "ロジステック回帰を独自に実装する場合は、前章のADALINE実装のコスト関数Jを新しいコスト関数に置き換えるだけでよい<br>\n",
    "これにより、トレーニングサンプルを全て分類するコストがエポックごとに計算されるようになる<br>\n",
    "また、線形活性化関数をシグモイド活性化関数に置き換える必要もある  \n",
    "さらに、閾値関数を書き換えて、-1と1の代わりにクラスラベル0と1を返すようにする必要もある  \n",
    "ADALINEのコードにこれら3つの変更を加えると、次に示すように、有効なロジステック回帰実装が得られる"
   ]
  },
  {
   "cell_type": "code",
   "execution_count": 31,
   "metadata": {
    "collapsed": true
   },
   "outputs": [],
   "source": [
    "class LogisticRegressionGD(object):\n",
    "    \"\"\" 勾配降下法に基づくロジステック回帰分析\n",
    "    \n",
    "    パラメータ\n",
    "    -------------\n",
    "    eta : float\n",
    "        学習率（0.0より大きく1.0以下の値）\n",
    "    n_iter : int\n",
    "        トレーニングデータのトレーニング回数\n",
    "    random_state : int\n",
    "        重みを初期化するための乱数シード\n",
    "        \n",
    "    属性\n",
    "    ---------\n",
    "    w_ : 1次元配列\n",
    "      適合後の重み\n",
    "    cost_ : リスト\n",
    "    　各エポックでの誤差二乗和コスト関数\n",
    "     \n",
    "     \"\"\"\n",
    "    \n",
    "    def __init__(self, eta=0.05, n_iter=100, random_state=1):\n",
    "        # 学習率の初期化\n",
    "        self.eta = eta\n",
    "        # トレーニング回数の初期化\n",
    "        self.n_iter = n_iter\n",
    "        # 乱数シードを固定化するrandom_state\n",
    "        self.random_state = random_state\n",
    "        \n",
    "    def fit(self, X, y):\n",
    "        \"\"\" トレーニングデータに適合させる\n",
    "        \n",
    "        パラメータ\n",
    "        -------------\n",
    "        X : { 配列のような構造}, shape = {n_samples, n_features}\n",
    "            トレーニングデータ\n",
    "            n_samplesはサンプルの個数、n_featuresは特徴量の個数\n",
    "        y : 配列のようなデータ構造、shape = [n_samples]\n",
    "            目的変数\n",
    "            \n",
    "        戻り値\n",
    "        -------------\n",
    "        self : object\n",
    "        \"\"\"\n",
    "        \n",
    "        rgen = np.random.RandomState(self.random_state)\n",
    "        self.w_ = rgen.normal(loc=0.0, scale=0.01, size=1 + X.shape[1])\n",
    "        self.cost_ = []\n",
    "        \n",
    "        # トレーニング回数分トレーニングデータを反復処理\n",
    "        for i in range(self.n_iter):\n",
    "            net_input = self.net_input(X)\n",
    "            output = self.activation(net_input)\n",
    "            errors = (y - output)\n",
    "            self.w_[1:] += self.eta * X.T.dot(errors)\n",
    "            self.w_[0] += self.eta * errors.sum()\n",
    "            \n",
    "            # 誤差平方和のコストではなくロジステック回帰のコストを計算することに注意\n",
    "            cost = -y.dot(np.log(output)) - ((1 - y).dot(np.log(1 - output)))\n",
    "            # エポックごとのコスト格納\n",
    "            self.cost_.append(cost)\n",
    "        return self\n",
    "    \n",
    "    def net_input(self, X):\n",
    "        \"\"\"総入力を計算\"\"\"\n",
    "        return np.dot(X, self.w_[1:]) + self.w_[0]\n",
    "    \n",
    "    def activation(self, z):\n",
    "        \"\"\"ロジステックシグモイド活性化関数を計算\"\"\"\n",
    "        return 1. / (1. + np.exp(-np.clip(z, -250, 250)))\n",
    "    \n",
    "    def predict(self, X):\n",
    "        \"\"\"1ステップ後のクラスラベルを返す\"\"\"\n",
    "        return np.where(self.net_input(X) >= 0.0, 1, 0)\n",
    "        # 以下に等しい:\n",
    "        # return np.where(self.activation(self.net_input(X)) >= 0.5, 1, 0)"
   ]
  },
  {
   "cell_type": "markdown",
   "metadata": {},
   "source": [
    "ロジステック回帰モデルを適合させるにあたり、そのモデルがうまくいくのは二値分類タスクに限られることを覚えておく必要がある  \n",
    "そこで、品種としてIris-Setosa(クラス0)とIris-Versicolor(クラス1)のみを考慮することで、ロジステック回帰の実装を確認してみる"
   ]
  },
  {
   "cell_type": "code",
   "execution_count": 33,
   "metadata": {},
   "outputs": [
    {
     "data": {
      "image/png": "[encoded data removed]",
      "text/plain": [
       "<matplotlib.figure.Figure at 0x47e1cddcf8>"
      ]
     },
     "metadata": {},
     "output_type": "display_data"
    }
   ],
   "source": [
    "X_train_01_subset = X_train[(y_train == 0) | (y_train == 1)]\n",
    "y_train_01_subset = y_train[(y_train == 0) | (y_train == 1)]\n",
    "\n",
    "# ロジステック回帰インスタンスを生成\n",
    "lrgd = LogisticRegressionGD(eta=0.05, n_iter=1000, random_state=1)\n",
    "\n",
    "# モデルをトレーニングデータに適合させる\n",
    "lrgd.fit(X_train_01_subset, y_train_01_subset)\n",
    "\n",
    "# 決定領域をプロット\n",
    "plot_decision_regions(X=X_train_01_subset,\n",
    "                    y=y_train_01_subset,\n",
    "                    classifier=lrgd)\n",
    "\n",
    "# 軸のラベルを設定\n",
    "plt.xlabel('petal length [standardized]')\n",
    "plt.ylabel('petal width [standardized]')\n",
    "\n",
    "# 凡例を設定（左上に配置）\n",
    "plt.legend(loc='upper left')\n",
    "\n",
    "# グラフを表示\n",
    "plt.tight_layout()\n",
    "plt.show()"
   ]
  },
  {
   "cell_type": "markdown",
   "metadata": {},
   "source": [
    "# 3.3.4 scikit-learnを使ったロジスティック回帰モデルのトレーニング"
   ]
  },
  {
   "cell_type": "markdown",
   "metadata": {},
   "source": [
    "ADALINEとロジステック回帰の概念的な違いを理解するために役立つ有益なコーディングと数学演算を行ったところで、scikit-learnを使って最適なロジステック回帰を実装する方法について見てみよう  \n",
    "この実装では、多クラス分類の設定も標準でサポートされている(デフォルトではOvR)"
   ]
  },
  {
   "cell_type": "markdown",
   "metadata": {},
   "source": [
    "次のコードはsklearn.linear_model.LogisticRegressionクラスとお馴染みのfitメソッドを使用して、3つのクラスに分類できる標準化されたトレーニングデータセットにより、モデルのトレーニングを行う"
   ]
  },
  {
   "cell_type": "code",
   "execution_count": 35,
   "metadata": {},
   "outputs": [
    {
     "data": {
      "image/png": "[encoded data removed]",
      "text/plain": [
       "<matplotlib.figure.Figure at 0x47e2d1b6a0>"
      ]
     },
     "metadata": {},
     "output_type": "display_data"
    }
   ],
   "source": [
    "from sklearn.linear_model import LogisticRegression\n",
    "\n",
    "# ロジステック回帰のインスタンスを生成\n",
    "lr = LogisticRegression(C=100.0, random_state=1)\n",
    "\n",
    "# トレーニングデータをモデルに適合させる\n",
    "lr.fit(X_train_std, y_train)\n",
    "\n",
    "# 境界線をプロット\n",
    "plot_decision_regions(X_combined_std, y_combined, classifier=lr,\n",
    "                     test_idx=range(105,150))\n",
    "\n",
    "# 軸のラベルを設定\n",
    "plt.xlabel('petal length [standardized]')\n",
    "plt.ylabel('petal width [standardized]')\n",
    "\n",
    "# 凡例を設定（左上に配置）\n",
    "plt.legend(loc='upper left')\n",
    "\n",
    "# グラフを表示\n",
    "plt.tight_layout() # グラフが重ならないように調整\n",
    "plt.show()"
   ]
  },
  {
   "cell_type": "markdown",
   "metadata": {},
   "source": [
    "トレーニングデータにモデルを適合させたら、決定境界、トレーニングサンプル、テストサンプルをプロットした  \n",
    "\n",
    "LogisticRegressionクラスのモデルのトレーニングに使用したコード（上記コードの3行目）を見て、「この謎のパラメータCは何か」と思っているかもしれない  \n",
    "このパラメータについてはすぐに説明するが、まず、過学習と正規化の概念を次項で簡単に説明する  \n",
    "だがその前に、クラスの所属関係の確率についての説明を完了させる"
   ]
  },
  {
   "cell_type": "markdown",
   "metadata": {},
   "source": [
    "トレーニングサンプルが特定のクラスに属する確率は、predict_probaメソッドを使って計算できる  \n",
    "例えば、テストセットの最初の3つのサンプルの確率は次のように予測できる"
   ]
  },
  {
   "cell_type": "code",
   "execution_count": 41,
   "metadata": {},
   "outputs": [
    {
     "data": {
      "text/plain": [
       "array([[  3.20136878e-08,   1.46953648e-01,   8.53046320e-01],\n",
       "       [  8.34428069e-01,   1.65571931e-01,   4.57896429e-12],\n",
       "       [  8.49182775e-01,   1.50817225e-01,   4.65678779e-13]])"
      ]
     },
     "execution_count": 41,
     "metadata": {},
     "output_type": "execute_result"
    }
   ],
   "source": [
    "lr.predict_proba(X_test_std[:3,:])"
   ]
  },
  {
   "cell_type": "markdown",
   "metadata": {},
   "source": [
    "一行目は、1つ目のサンプルに関するクラスの所属確率を表しており、2行目は、2つ目のサンプルに関するクラスの所属確率を表している  \n",
    "予想した通り、これらの列を合計すると1になることが分かる  \n",
    "1行目において最も大きい値は約0.853であり、1つ目のサンプルがクラスの3(Iris-Virginica)に属している確率をこのモデルが85.3％と予測したことを意味している  \n",
    "既に気づいているかもしれないが、クラスレベルの予測値を取得するには、各行において最も大きい列を指定すればいい  \n",
    "これには、たとえばNumPyのargmax関数を使用できる"
   ]
  },
  {
   "cell_type": "code",
   "execution_count": 42,
   "metadata": {},
   "outputs": [
    {
     "data": {
      "text/plain": [
       "array([ 1.,  1.,  1.])"
      ]
     },
     "execution_count": 42,
     "metadata": {},
     "output_type": "execute_result"
    }
   ],
   "source": [
    "lr.predict_proba(X_test_std[:3,:]).sum(axis=1)"
   ]
  },
  {
   "cell_type": "code",
   "execution_count": 43,
   "metadata": {},
   "outputs": [
    {
     "data": {
      "text/plain": [
       "array([2, 0, 0], dtype=int64)"
      ]
     },
     "execution_count": 43,
     "metadata": {},
     "output_type": "execute_result"
    }
   ],
   "source": [
    "lr.predict_proba(X_test_std[:3, :]).argmax(axis=1)"
   ]
  },
  {
   "cell_type": "markdown",
   "metadata": {},
   "source": [
    "返されたクラスラベルは上のようになる（これらは順にIris-Setosa、Iris-Versicolor、Iris-Virginicaに対応している）"
   ]
  },
  {
   "cell_type": "markdown",
   "metadata": {},
   "source": [
    "この条件付確率からクラスラベルの取得は、当然ながら、predictメソッドの直接呼出しを単に手作業で行ったものである"
   ]
  },
  {
   "cell_type": "code",
   "execution_count": 44,
   "metadata": {},
   "outputs": [
    {
     "data": {
      "text/plain": [
       "array([2, 0, 0])"
      ]
     },
     "execution_count": 44,
     "metadata": {},
     "output_type": "execute_result"
    }
   ],
   "source": [
    "lr.predict(X_test_std[:3, :])"
   ]
  },
  {
   "cell_type": "markdown",
   "metadata": {},
   "source": [
    "最後に、単一のサンプルのクラスラベルを予測したい場合に注意しなければならない点が1つある  \n",
    "それは、scikit-learnがデータ入力として2次元配列を期待することである  \n",
    "このため最初に1行のデータを2次元のデータ配列に変換する必要がある  \n",
    "1行のデータを2次元配列に変換する方法の一つは、NumPyのreshapeメソッドを使って新しい次元を追加することである"
   ]
  },
  {
   "cell_type": "code",
   "execution_count": 45,
   "metadata": {},
   "outputs": [
    {
     "data": {
      "text/plain": [
       "array([2])"
      ]
     },
     "execution_count": 45,
     "metadata": {},
     "output_type": "execute_result"
    }
   ],
   "source": [
    "lr.predict(X_test_std[0, :].reshape(1, -1))"
   ]
  },
  {
   "cell_type": "markdown",
   "metadata": {},
   "source": [
    "# 3.3.5 正則化による過学習への対処"
   ]
  },
  {
   "cell_type": "code",
   "execution_count": null,
   "metadata": {
    "collapsed": true
   },
   "outputs": [],
   "source": []
  }
 ],
 "metadata": {
  "kernelspec": {
   "display_name": "Python 3",
   "language": "python",
   "name": "python3"
  },
  "language_info": {
   "codemirror_mode": {
    "name": "ipython",
    "version": 3
   },
   "file_extension": ".py",
   "mimetype": "text/x-python",
   "name": "python",
   "nbconvert_exporter": "python",
   "pygments_lexer": "ipython3",
   "version": "3.6.1"
  }
 },
 "nbformat": 4,
 "nbformat_minor": 2
}
